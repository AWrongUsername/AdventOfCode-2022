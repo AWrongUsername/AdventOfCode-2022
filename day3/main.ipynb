{
 "cells": [
  {
   "cell_type": "markdown",
   "metadata": {},
   "source": [
    "1. Each line one rugsack\n",
    "2. Each rugsack 2 compartments of equal size\n",
    "3. One letter in both compartments of one rugsack\n",
    "4. a-z 1-26, A-Z 27-52\n",
    "5. ord() for char to int, -96 for lower, -38 for upper "
   ]
  },
  {
   "cell_type": "code",
   "execution_count": 4,
   "metadata": {},
   "outputs": [],
   "source": [
    "def get_multiple(a, b):\n",
    "    return ''.join(set(a).intersection(b))"
   ]
  },
  {
   "cell_type": "code",
   "execution_count": 9,
   "metadata": {},
   "outputs": [],
   "source": [
    "def get_priority(a):\n",
    "    return ord(a)-38 if a.isupper() else ord(a)-96"
   ]
  },
  {
   "cell_type": "code",
   "execution_count": 18,
   "metadata": {},
   "outputs": [],
   "source": [
    "file = open('input.txt', 'r')\n",
    "rugsacks = file.readlines()\n",
    "rugsacks = list(map(lambda x:x.strip(),rugsacks))"
   ]
  },
  {
   "cell_type": "code",
   "execution_count": 16,
   "metadata": {},
   "outputs": [],
   "source": [
    "priority_sum = 0\n",
    "\n",
    "for rugsack in rugsacks:\n",
    "    a,b = rugsack[:len(rugsack)//2], rugsack[len(rugsack)//2:]\n",
    "    multiple = get_multiple(a,b)\n",
    "    priority_sum += get_priority(multiple)"
   ]
  },
  {
   "cell_type": "code",
   "execution_count": 17,
   "metadata": {},
   "outputs": [
    {
     "data": {
      "text/plain": [
       "7691"
      ]
     },
     "execution_count": 17,
     "metadata": {},
     "output_type": "execute_result"
    }
   ],
   "source": [
    "priority_sum"
   ]
  }
 ],
 "metadata": {
  "kernelspec": {
   "display_name": "Python 3.10.8 64-bit (microsoft store)",
   "language": "python",
   "name": "python3"
  },
  "language_info": {
   "codemirror_mode": {
    "name": "ipython",
    "version": 3
   },
   "file_extension": ".py",
   "mimetype": "text/x-python",
   "name": "python",
   "nbconvert_exporter": "python",
   "pygments_lexer": "ipython3",
   "version": "3.10.8"
  },
  "orig_nbformat": 4,
  "vscode": {
   "interpreter": {
    "hash": "8c7c7fbb5460f6f1ca0eabace6870d53e953851ab53524f46a266fb79adead4d"
   }
  }
 },
 "nbformat": 4,
 "nbformat_minor": 2
}
