{
 "cells": [
  {
   "cell_type": "markdown",
   "metadata": {},
   "source": [
    "0. One group per 3 lines -> One common item per group is badge\n",
    "1. Each line one rugsack\n",
    "2. Each rugsack 2 compartments of equal size\n",
    "3. One letter in both compartments of one rugsack\n",
    "4. a-z 1-26, A-Z 27-52\n",
    "5. ord() for char to int, -96 for lower, -38 for upper "
   ]
  },
  {
   "cell_type": "code",
   "execution_count": 1,
   "metadata": {},
   "outputs": [],
   "source": [
    "def get_priority(a):\n",
    "    return ord(a)-38 if a.isupper() else ord(a)-96"
   ]
  },
  {
   "cell_type": "code",
   "execution_count": 2,
   "metadata": {},
   "outputs": [],
   "source": [
    "file = open('input.txt', 'r')\n",
    "rugsacks = file.readlines()\n",
    "rugsacks = list(map(lambda x:x.strip(),rugsacks))"
   ]
  },
  {
   "cell_type": "code",
   "execution_count": 3,
   "metadata": {},
   "outputs": [],
   "source": [
    "def get_multiple(a, b, c):\n",
    "    return ''.join(set(a).intersection(b).intersection(c))"
   ]
  },
  {
   "cell_type": "code",
   "execution_count": 5,
   "metadata": {},
   "outputs": [],
   "source": [
    "priority_sum = 0\n",
    "\n",
    "for x in range(0, len(rugsacks), 3):\n",
    "    a = rugsacks[x]\n",
    "    b = rugsacks[x+1]\n",
    "    c = rugsacks[x+2]\n",
    "\n",
    "    multiple = get_multiple(a,b, c)\n",
    "    priority_sum += get_priority(multiple)"
   ]
  },
  {
   "cell_type": "code",
   "execution_count": 6,
   "metadata": {},
   "outputs": [
    {
     "data": {
      "text/plain": [
       "2508"
      ]
     },
     "execution_count": 6,
     "metadata": {},
     "output_type": "execute_result"
    }
   ],
   "source": [
    "priority_sum"
   ]
  }
 ],
 "metadata": {
  "kernelspec": {
   "display_name": "Python 3.10.8 64-bit (microsoft store)",
   "language": "python",
   "name": "python3"
  },
  "language_info": {
   "codemirror_mode": {
    "name": "ipython",
    "version": 3
   },
   "file_extension": ".py",
   "mimetype": "text/x-python",
   "name": "python",
   "nbconvert_exporter": "python",
   "pygments_lexer": "ipython3",
   "version": "3.10.8"
  },
  "orig_nbformat": 4,
  "vscode": {
   "interpreter": {
    "hash": "8c7c7fbb5460f6f1ca0eabace6870d53e953851ab53524f46a266fb79adead4d"
   }
  }
 },
 "nbformat": 4,
 "nbformat_minor": 2
}
